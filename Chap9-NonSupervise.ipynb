{
 "cells": [
  {
   "cell_type": "markdown",
   "metadata": {},
   "source": [
    "# Algorithmes non supervisés"
   ]
  },
  {
   "cell_type": "code",
   "execution_count": 1,
   "metadata": {},
   "outputs": [],
   "source": [
    "import numpy as np\n",
    "import pandas as pd"
   ]
  },
  {
   "cell_type": "markdown",
   "metadata": {},
   "source": [
    "## Clustering"
   ]
  },
  {
   "cell_type": "markdown",
   "metadata": {},
   "source": [
    "### Préparation Titanic"
   ]
  },
  {
   "cell_type": "code",
   "execution_count": 2,
   "metadata": {},
   "outputs": [],
   "source": [
    "def prepare():\n",
    "    # Loading\n",
    "    titanic_df = pd.read_csv(\"data/titanic_train.csv\")\n",
    "\n",
    "    # New features\n",
    "    titanic_df['FamilyNb'] = titanic_df['SibSp'] + titanic_df['Parch']\n",
    "    titanic_df['Alone'] = (titanic_df['FamilyNb'] == 0)\n",
    "\n",
    "    # Quantification Sex + Embarked\n",
    "    sex_df = pd.get_dummies(titanic_df['Sex'], prefix='sex', drop_first=True)\n",
    "    embarked_df = pd.get_dummies(titanic_df['Embarked'], prefix='embarked', dummy_na=True)\n",
    "    titanic_df = pd.concat([titanic_df, embarked_df, sex_df], axis=1)\n",
    "\n",
    "    # Delete unused features\n",
    "    titanic_df.drop(['PassengerId', 'Name', 'Ticket', 'Cabin', 'Fare', 'SibSp', 'Parch', 'Sex', 'Embarked'], axis=1, inplace=True)\n",
    "\n",
    "    # Missing values\n",
    "    titanic_df['Age'].fillna(titanic_df['Age'].mean(), inplace=True)\n",
    "\n",
    "    # Normalization\n",
    "    titanic_df['Age'] = (titanic_df['Age'] - titanic_df['Age'].min()) / (titanic_df['Age'].max() - titanic_df['Age'].min())\n",
    "    titanic_df['Alone'] = titanic_df['Alone'].astype('int')\n",
    "    \n",
    "    return titanic_df\n",
    "    \n",
    "titanic_df = prepare()"
   ]
  },
  {
   "cell_type": "markdown",
   "metadata": {},
   "source": [
    "### Algorithmes de clustering"
   ]
  },
  {
   "cell_type": "code",
   "execution_count": 3,
   "metadata": {},
   "outputs": [
    {
     "data": {
      "text/plain": [
       "KMeans(algorithm='auto', copy_x=True, init='k-means++', max_iter=300,\n",
       "       n_clusters=3, n_init=10, n_jobs=None, precompute_distances='auto',\n",
       "       random_state=42, tol=0.0001, verbose=0)"
      ]
     },
     "execution_count": 3,
     "metadata": {},
     "output_type": "execute_result"
    }
   ],
   "source": [
    "# K-Means\n",
    "from sklearn.cluster import KMeans\n",
    "\n",
    "clusterAlgo = KMeans(n_clusters=3, random_state=42)\n",
    "clusterAlgo.fit(titanic_df)"
   ]
  },
  {
   "cell_type": "code",
   "execution_count": 4,
   "metadata": {},
   "outputs": [
    {
     "data": {
      "text/plain": [
       "array([[ 3.03538175e-01,  2.40037244e+00,  3.91755100e-01,\n",
       "        -5.77315973e-15,  1.00000000e+00,  1.58286778e-01,\n",
       "         1.06145251e-01,  7.31843575e-01,  3.72439479e-03,\n",
       "         7.65363128e-01],\n",
       "       [ 1.33333333e-01,  2.83333333e+00,  2.45557991e-01,\n",
       "         5.76666667e+00,  1.11022302e-16,  0.00000000e+00,\n",
       "         8.33333333e-02,  9.16666667e-01, -1.73472348e-18,\n",
       "         4.83333333e-01],\n",
       "       [ 5.81632653e-01,  2.03401361e+00,  3.49357976e-01,\n",
       "         1.56462585e+00,  1.66533454e-15,  2.82312925e-01,\n",
       "         5.10204082e-02,  6.66666667e-01,  7.80625564e-18,\n",
       "         4.65986395e-01]])"
      ]
     },
     "execution_count": 4,
     "metadata": {},
     "output_type": "execute_result"
    }
   ],
   "source": [
    "# Cluster centers\n",
    "clusterAlgo.cluster_centers_"
   ]
  },
  {
   "cell_type": "code",
   "execution_count": 5,
   "metadata": {},
   "outputs": [
    {
     "data": {
      "text/plain": [
       "1687.1239639598116"
      ]
     },
     "execution_count": 5,
     "metadata": {},
     "output_type": "execute_result"
    }
   ],
   "source": [
    "# Inertia\n",
    "clusterAlgo.inertia_"
   ]
  },
  {
   "cell_type": "code",
   "execution_count": 6,
   "metadata": {},
   "outputs": [
    {
     "data": {
      "text/html": [
       "<div>\n",
       "<style scoped>\n",
       "    .dataframe tbody tr th:only-of-type {\n",
       "        vertical-align: middle;\n",
       "    }\n",
       "\n",
       "    .dataframe tbody tr th {\n",
       "        vertical-align: top;\n",
       "    }\n",
       "\n",
       "    .dataframe thead th {\n",
       "        text-align: right;\n",
       "    }\n",
       "</style>\n",
       "<table border=\"1\" class=\"dataframe\">\n",
       "  <thead>\n",
       "    <tr style=\"text-align: right;\">\n",
       "      <th></th>\n",
       "      <th>label</th>\n",
       "      <th>0</th>\n",
       "      <th>1</th>\n",
       "      <th>2</th>\n",
       "    </tr>\n",
       "  </thead>\n",
       "  <tbody>\n",
       "    <tr>\n",
       "      <th rowspan=\"8\" valign=\"top\">Survived</th>\n",
       "      <th>count</th>\n",
       "      <td>537.000000</td>\n",
       "      <td>60.000000</td>\n",
       "      <td>294.000000</td>\n",
       "    </tr>\n",
       "    <tr>\n",
       "      <th>mean</th>\n",
       "      <td>0.303538</td>\n",
       "      <td>0.133333</td>\n",
       "      <td>0.581633</td>\n",
       "    </tr>\n",
       "    <tr>\n",
       "      <th>std</th>\n",
       "      <td>0.460214</td>\n",
       "      <td>0.342803</td>\n",
       "      <td>0.494132</td>\n",
       "    </tr>\n",
       "    <tr>\n",
       "      <th>min</th>\n",
       "      <td>0.000000</td>\n",
       "      <td>0.000000</td>\n",
       "      <td>0.000000</td>\n",
       "    </tr>\n",
       "    <tr>\n",
       "      <th>25%</th>\n",
       "      <td>0.000000</td>\n",
       "      <td>0.000000</td>\n",
       "      <td>0.000000</td>\n",
       "    </tr>\n",
       "    <tr>\n",
       "      <th>50%</th>\n",
       "      <td>0.000000</td>\n",
       "      <td>0.000000</td>\n",
       "      <td>1.000000</td>\n",
       "    </tr>\n",
       "    <tr>\n",
       "      <th>75%</th>\n",
       "      <td>1.000000</td>\n",
       "      <td>0.000000</td>\n",
       "      <td>1.000000</td>\n",
       "    </tr>\n",
       "    <tr>\n",
       "      <th>max</th>\n",
       "      <td>1.000000</td>\n",
       "      <td>1.000000</td>\n",
       "      <td>1.000000</td>\n",
       "    </tr>\n",
       "    <tr>\n",
       "      <th rowspan=\"8\" valign=\"top\">FamilyNb</th>\n",
       "      <th>count</th>\n",
       "      <td>537.000000</td>\n",
       "      <td>60.000000</td>\n",
       "      <td>294.000000</td>\n",
       "    </tr>\n",
       "    <tr>\n",
       "      <th>mean</th>\n",
       "      <td>0.000000</td>\n",
       "      <td>5.766667</td>\n",
       "      <td>1.564626</td>\n",
       "    </tr>\n",
       "    <tr>\n",
       "      <th>std</th>\n",
       "      <td>0.000000</td>\n",
       "      <td>1.788539</td>\n",
       "      <td>0.696829</td>\n",
       "    </tr>\n",
       "    <tr>\n",
       "      <th>min</th>\n",
       "      <td>0.000000</td>\n",
       "      <td>4.000000</td>\n",
       "      <td>1.000000</td>\n",
       "    </tr>\n",
       "    <tr>\n",
       "      <th>25%</th>\n",
       "      <td>0.000000</td>\n",
       "      <td>5.000000</td>\n",
       "      <td>1.000000</td>\n",
       "    </tr>\n",
       "    <tr>\n",
       "      <th>50%</th>\n",
       "      <td>0.000000</td>\n",
       "      <td>5.000000</td>\n",
       "      <td>1.000000</td>\n",
       "    </tr>\n",
       "    <tr>\n",
       "      <th>75%</th>\n",
       "      <td>0.000000</td>\n",
       "      <td>6.000000</td>\n",
       "      <td>2.000000</td>\n",
       "    </tr>\n",
       "    <tr>\n",
       "      <th>max</th>\n",
       "      <td>0.000000</td>\n",
       "      <td>10.000000</td>\n",
       "      <td>4.000000</td>\n",
       "    </tr>\n",
       "    <tr>\n",
       "      <th rowspan=\"8\" valign=\"top\">Alone</th>\n",
       "      <th>count</th>\n",
       "      <td>537.000000</td>\n",
       "      <td>60.000000</td>\n",
       "      <td>294.000000</td>\n",
       "    </tr>\n",
       "    <tr>\n",
       "      <th>mean</th>\n",
       "      <td>1.000000</td>\n",
       "      <td>0.000000</td>\n",
       "      <td>0.000000</td>\n",
       "    </tr>\n",
       "    <tr>\n",
       "      <th>std</th>\n",
       "      <td>0.000000</td>\n",
       "      <td>0.000000</td>\n",
       "      <td>0.000000</td>\n",
       "    </tr>\n",
       "    <tr>\n",
       "      <th>min</th>\n",
       "      <td>1.000000</td>\n",
       "      <td>0.000000</td>\n",
       "      <td>0.000000</td>\n",
       "    </tr>\n",
       "    <tr>\n",
       "      <th>25%</th>\n",
       "      <td>1.000000</td>\n",
       "      <td>0.000000</td>\n",
       "      <td>0.000000</td>\n",
       "    </tr>\n",
       "    <tr>\n",
       "      <th>50%</th>\n",
       "      <td>1.000000</td>\n",
       "      <td>0.000000</td>\n",
       "      <td>0.000000</td>\n",
       "    </tr>\n",
       "    <tr>\n",
       "      <th>75%</th>\n",
       "      <td>1.000000</td>\n",
       "      <td>0.000000</td>\n",
       "      <td>0.000000</td>\n",
       "    </tr>\n",
       "    <tr>\n",
       "      <th>max</th>\n",
       "      <td>1.000000</td>\n",
       "      <td>0.000000</td>\n",
       "      <td>0.000000</td>\n",
       "    </tr>\n",
       "    <tr>\n",
       "      <th rowspan=\"8\" valign=\"top\">sex_male</th>\n",
       "      <th>count</th>\n",
       "      <td>537.000000</td>\n",
       "      <td>60.000000</td>\n",
       "      <td>294.000000</td>\n",
       "    </tr>\n",
       "    <tr>\n",
       "      <th>mean</th>\n",
       "      <td>0.765363</td>\n",
       "      <td>0.483333</td>\n",
       "      <td>0.465986</td>\n",
       "    </tr>\n",
       "    <tr>\n",
       "      <th>std</th>\n",
       "      <td>0.424167</td>\n",
       "      <td>0.503939</td>\n",
       "      <td>0.499692</td>\n",
       "    </tr>\n",
       "    <tr>\n",
       "      <th>min</th>\n",
       "      <td>0.000000</td>\n",
       "      <td>0.000000</td>\n",
       "      <td>0.000000</td>\n",
       "    </tr>\n",
       "    <tr>\n",
       "      <th>25%</th>\n",
       "      <td>1.000000</td>\n",
       "      <td>0.000000</td>\n",
       "      <td>0.000000</td>\n",
       "    </tr>\n",
       "    <tr>\n",
       "      <th>50%</th>\n",
       "      <td>1.000000</td>\n",
       "      <td>0.000000</td>\n",
       "      <td>0.000000</td>\n",
       "    </tr>\n",
       "    <tr>\n",
       "      <th>75%</th>\n",
       "      <td>1.000000</td>\n",
       "      <td>1.000000</td>\n",
       "      <td>1.000000</td>\n",
       "    </tr>\n",
       "    <tr>\n",
       "      <th>max</th>\n",
       "      <td>1.000000</td>\n",
       "      <td>1.000000</td>\n",
       "      <td>1.000000</td>\n",
       "    </tr>\n",
       "  </tbody>\n",
       "</table>\n",
       "</div>"
      ],
      "text/plain": [
       "label                    0          1           2\n",
       "Survived count  537.000000  60.000000  294.000000\n",
       "         mean     0.303538   0.133333    0.581633\n",
       "         std      0.460214   0.342803    0.494132\n",
       "         min      0.000000   0.000000    0.000000\n",
       "         25%      0.000000   0.000000    0.000000\n",
       "         50%      0.000000   0.000000    1.000000\n",
       "         75%      1.000000   0.000000    1.000000\n",
       "         max      1.000000   1.000000    1.000000\n",
       "FamilyNb count  537.000000  60.000000  294.000000\n",
       "         mean     0.000000   5.766667    1.564626\n",
       "         std      0.000000   1.788539    0.696829\n",
       "         min      0.000000   4.000000    1.000000\n",
       "         25%      0.000000   5.000000    1.000000\n",
       "         50%      0.000000   5.000000    1.000000\n",
       "         75%      0.000000   6.000000    2.000000\n",
       "         max      0.000000  10.000000    4.000000\n",
       "Alone    count  537.000000  60.000000  294.000000\n",
       "         mean     1.000000   0.000000    0.000000\n",
       "         std      0.000000   0.000000    0.000000\n",
       "         min      1.000000   0.000000    0.000000\n",
       "         25%      1.000000   0.000000    0.000000\n",
       "         50%      1.000000   0.000000    0.000000\n",
       "         75%      1.000000   0.000000    0.000000\n",
       "         max      1.000000   0.000000    0.000000\n",
       "sex_male count  537.000000  60.000000  294.000000\n",
       "         mean     0.765363   0.483333    0.465986\n",
       "         std      0.424167   0.503939    0.499692\n",
       "         min      0.000000   0.000000    0.000000\n",
       "         25%      1.000000   0.000000    0.000000\n",
       "         50%      1.000000   0.000000    0.000000\n",
       "         75%      1.000000   1.000000    1.000000\n",
       "         max      1.000000   1.000000    1.000000"
      ]
     },
     "execution_count": 6,
     "metadata": {},
     "output_type": "execute_result"
    }
   ],
   "source": [
    "# Analyze each cluster\n",
    "titanic_df['label'] = clusterAlgo.labels_\n",
    "pd.options.display.max_rows = None\n",
    "titanic_df[['Survived', 'FamilyNb', 'Alone', 'sex_male', 'label']].groupby('label').describe().transpose()"
   ]
  },
  {
   "cell_type": "code",
   "execution_count": 7,
   "metadata": {},
   "outputs": [],
   "source": [
    "titanic_df = prepare()"
   ]
  },
  {
   "cell_type": "code",
   "execution_count": 8,
   "metadata": {},
   "outputs": [
    {
     "data": {
      "text/plain": [
       "MiniBatchKMeans(batch_size=50, compute_labels=True, init='k-means++',\n",
       "                init_size=None, max_iter=100, max_no_improvement=10,\n",
       "                n_clusters=3, n_init=3, random_state=42,\n",
       "                reassignment_ratio=0.01, tol=0.0, verbose=0)"
      ]
     },
     "execution_count": 8,
     "metadata": {},
     "output_type": "execute_result"
    }
   ],
   "source": [
    "# Mini Batch K-Means\n",
    "from sklearn.cluster import MiniBatchKMeans\n",
    "\n",
    "clusterAlgo = MiniBatchKMeans(n_clusters=3, batch_size=50, random_state=42)\n",
    "clusterAlgo.fit(titanic_df)"
   ]
  },
  {
   "cell_type": "code",
   "execution_count": 9,
   "metadata": {},
   "outputs": [
    {
     "data": {
      "text/plain": [
       "1699.4344150411077"
      ]
     },
     "execution_count": 9,
     "metadata": {},
     "output_type": "execute_result"
    }
   ],
   "source": [
    "# Inertia\n",
    "clusterAlgo.inertia_"
   ]
  },
  {
   "cell_type": "code",
   "execution_count": 10,
   "metadata": {},
   "outputs": [],
   "source": [
    "titanic_df = prepare()"
   ]
  },
  {
   "cell_type": "code",
   "execution_count": 11,
   "metadata": {},
   "outputs": [
    {
     "data": {
      "text/plain": [
       "DBSCAN(algorithm='auto', eps=1, leaf_size=30, metric='euclidean',\n",
       "       metric_params=None, min_samples=15, n_jobs=None, p=None)"
      ]
     },
     "execution_count": 11,
     "metadata": {},
     "output_type": "execute_result"
    }
   ],
   "source": [
    "# DBScan\n",
    "from sklearn.cluster import DBSCAN\n",
    "\n",
    "clusterAlgo = DBSCAN(eps=1, min_samples=15)\n",
    "clusterAlgo.fit(titanic_df)"
   ]
  },
  {
   "cell_type": "code",
   "execution_count": 12,
   "metadata": {},
   "outputs": [
    {
     "data": {
      "text/plain": [
       "array([ 0,  1,  2,  3,  2,  4,  2, -1, -1, -1,  6,  2,  2, -1,  2,  2, -1,\n",
       "        2, -1,  5,  2,  2,  4,  2, -1, -1,  5, -1,  4,  2,  5,  1,  4,  2,\n",
       "       -1, -1,  5,  2,  0, -1, -1, -1,  5, -1,  4,  2, -1,  4, -1,  0, -1,\n",
       "        2,  1,  6, -1,  2,  2,  5, -1, -1,  5, -1, -1, -1,  5, -1,  2,  2,\n",
       "       -1,  0,  2, -1,  2, -1,  2,  2,  2,  2, -1,  2,  2,  2,  4,  2,  2,\n",
       "       -1, -1,  2, -1,  2,  2,  2, -1,  0,  2,  2,  5,  1,  6, -1,  2,  2,\n",
       "       -1,  2,  0,  2,  2,  2,  2, -1,  2, -1,  2, -1, -1,  2,  4,  0, -1,\n",
       "       -1, -1,  2, -1,  2, -1, -1,  4,  2, -1,  2,  5,  2, -1,  6,  2,  5,\n",
       "       -1, -1,  2,  5, -1,  2,  6,  4,  2, -1,  2, -1, -1,  2,  2,  3,  2,\n",
       "        0,  2, -1,  4,  2,  2, -1,  0,  2,  2,  2, -1, -1,  3, -1,  2,  2,\n",
       "        2, -1, -1,  2,  5,  0, -1, -1,  2,  2, -1,  5, -1, -1,  6,  2, -1,\n",
       "        2, -1,  2,  2,  2,  6, -1,  5,  5,  4,  0,  4,  2,  2, -1,  2,  5,\n",
       "        2, -1,  0,  5,  4,  5,  2,  2,  2,  2, -1,  1,  2,  0,  5,  2,  2,\n",
       "        2,  2,  2, -1,  2,  2,  2,  2, -1,  3,  2,  2, -1,  2,  2,  0,  6,\n",
       "        2,  2, -1, -1,  2,  2,  5, -1,  2,  6, -1, -1,  2, -1,  2,  0, -1,\n",
       "       -1,  5,  2,  5,  6,  4, -1, -1,  2,  4,  2, -1,  0,  3,  2,  2,  2,\n",
       "        6, -1,  4,  3,  2,  2, -1, -1,  4,  2,  2,  2,  2,  5,  2,  2,  2,\n",
       "        4,  2,  1,  5,  2,  2,  5,  5, -1,  2,  1,  4, -1,  2,  4,  2, -1,\n",
       "        5,  1, -1,  5,  5, -1, -1,  2, -1,  2,  6,  2,  6, -1,  2,  2,  4,\n",
       "        6, -1,  5,  2,  2,  6,  1, -1,  2, -1,  0,  3,  2, -1,  5,  2,  2,\n",
       "       -1, -1,  2,  2,  2,  2,  2, -1, -1,  2,  2,  2, -1,  0,  5,  2,  3,\n",
       "       -1,  4,  4, -1, -1, -1,  2, -1,  2,  1,  5,  4,  5, -1,  0,  2,  5,\n",
       "       -1,  1,  2, -1,  5,  2,  5, -1,  2,  3,  2,  2, -1,  2,  4, -1, -1,\n",
       "        2,  0,  1,  6,  2,  2,  2,  2,  2,  2,  2, -1,  0,  2, -1,  2, -1,\n",
       "        2, -1,  2,  4, -1,  2,  2,  2,  6,  6,  2, -1,  5,  4,  2,  0,  0,\n",
       "        2,  6,  2,  4,  2,  2, -1,  6,  2, -1, -1, -1, -1, -1,  2,  6,  2,\n",
       "        0,  2,  2, -1,  6,  2, -1,  2, -1,  0,  5,  1,  2,  5,  2,  3,  2,\n",
       "        4,  2,  2,  2,  2,  2,  2,  2,  2,  4, -1,  2,  2, -1, -1,  2,  2,\n",
       "       -1,  0,  2, -1, -1,  2,  2,  2, -1, -1,  3,  5,  2, -1,  0,  2,  2,\n",
       "        5,  2,  5,  1,  2, -1,  2,  2,  4,  4,  2,  2, -1,  6,  2,  2,  2,\n",
       "        4,  2,  2,  1,  2,  2,  2,  4,  6,  2,  2,  2,  5,  1,  5,  4,  2,\n",
       "        2,  2, -1,  6,  5, -1, -1,  2,  6,  2,  5,  2, -1, -1, -1, -1, -1,\n",
       "       -1,  2,  6,  5,  0, -1, -1,  2,  4,  5,  2,  2,  1,  5,  3,  6,  4,\n",
       "        2,  2,  2,  2,  0,  2, -1,  5,  2,  2, -1,  2,  4,  2,  2,  2,  3,\n",
       "       -1,  2,  6, -1,  2,  5,  5,  6,  2, -1,  2,  2,  2,  1,  2, -1, -1,\n",
       "        0,  2,  2,  5,  1,  6,  2,  2,  2,  5,  0,  2,  2, -1,  2, -1,  2,\n",
       "       -1,  4,  2,  6,  0,  0,  6,  2, -1, -1, -1,  2,  2,  2, -1,  2,  2,\n",
       "        4,  2,  2,  5,  2, -1,  2,  2, -1, -1,  0,  2,  5, -1,  2, -1,  1,\n",
       "        2,  5,  2,  2,  2,  6,  2,  4,  4,  0,  2, -1,  2, -1, -1,  5,  2,\n",
       "        2, -1, -1,  2,  2,  2,  3,  6, -1,  2,  2,  2,  2,  2,  2, -1, -1,\n",
       "        4,  5,  2, -1, -1, -1, -1,  2,  2,  3, -1, -1,  2,  5,  2,  2,  2,\n",
       "        4, -1,  2,  1,  2, -1,  4,  0,  2,  2,  2,  2, -1,  5,  2, -1,  2,\n",
       "        2,  2,  5,  2,  4,  2,  6,  0,  2,  2, -1,  2, -1,  4,  0,  0,  2,\n",
       "        5,  2,  2,  2,  2, -1,  5,  2,  2,  2, -1, -1,  0,  2, -1,  0,  2,\n",
       "       -1,  4,  6, -1,  2,  2, -1, -1,  2,  2,  2,  2,  2,  2,  5, -1,  2,\n",
       "        3,  5,  4, -1,  2,  2,  2, -1,  5, -1,  2,  4,  2,  4,  3, -1,  3,\n",
       "        2, -1,  2,  2,  2, -1, -1,  5,  4,  2, -1,  5,  2,  2,  2,  2,  5,\n",
       "       -1,  2,  6, -1, -1,  2,  2,  2,  2,  2,  3,  2,  2,  2, -1,  2,  2,\n",
       "        2, -1,  2, -1, -1,  2,  2, -1, -1,  4,  2, -1,  4, -1, -1, -1,  5,\n",
       "        2,  2, -1,  2,  2,  2,  5,  2,  2,  5,  5,  2,  2, -1,  5,  0,  1,\n",
       "       -1,  2, -1,  3, -1,  6, -1,  2, -1,  5,  0, -1,  2, -1,  2,  2, -1,\n",
       "        2,  2, -1,  2, -1,  2,  2, -1, -1,  2,  2,  2,  1,  6,  2,  2,  2,\n",
       "        2, -1,  2,  2, -1,  5,  4])"
      ]
     },
     "execution_count": 12,
     "metadata": {},
     "output_type": "execute_result"
    }
   ],
   "source": [
    "clusterAlgo.labels_"
   ]
  },
  {
   "cell_type": "code",
   "execution_count": 13,
   "metadata": {},
   "outputs": [],
   "source": [
    "titanic_df = prepare()"
   ]
  },
  {
   "cell_type": "code",
   "execution_count": 14,
   "metadata": {},
   "outputs": [
    {
     "name": "stderr",
     "output_type": "stream",
     "text": [
      "/opt/conda/lib/python3.7/site-packages/sklearn/cluster/_optics.py:802: RuntimeWarning: divide by zero encountered in true_divide\n",
      "  ratio = reachability_plot[:-1] / reachability_plot[1:]\n"
     ]
    },
    {
     "data": {
      "text/plain": [
       "OPTICS(algorithm='auto', cluster_method='xi', eps=None, leaf_size=30,\n",
       "       max_eps=inf, metric='minkowski', metric_params=None,\n",
       "       min_cluster_size=None, min_samples=20, n_jobs=None, p=2,\n",
       "       predecessor_correction=True, xi=0.05)"
      ]
     },
     "execution_count": 14,
     "metadata": {},
     "output_type": "execute_result"
    }
   ],
   "source": [
    "# OPTICS\n",
    "from sklearn.cluster import OPTICS\n",
    "\n",
    "clusterAlgo = OPTICS(min_samples=20)\n",
    "clusterAlgo.fit(titanic_df)"
   ]
  },
  {
   "cell_type": "markdown",
   "metadata": {},
   "source": [
    "## Réduction des dimensions"
   ]
  },
  {
   "cell_type": "code",
   "execution_count": 15,
   "metadata": {},
   "outputs": [],
   "source": [
    "# Boston dataset\n",
    "import prepare\n",
    "\n",
    "train_X, test_X, train_y, test_y = prepare.prepare_boston()"
   ]
  },
  {
   "cell_type": "code",
   "execution_count": 16,
   "metadata": {},
   "outputs": [
    {
     "data": {
      "text/plain": [
       "array([0.09536135, 0.        , 0.00264675, 0.        , 0.03052634,\n",
       "       0.61468233, 0.00158261, 0.01004725, 0.        , 0.        ,\n",
       "       0.01073655, 0.00133507, 0.23308175])"
      ]
     },
     "execution_count": 16,
     "metadata": {},
     "output_type": "execute_result"
    }
   ],
   "source": [
    "# Decision tree on Boston\n",
    "from sklearn.tree import DecisionTreeRegressor\n",
    "from sklearn import metrics\n",
    "\n",
    "regressor = DecisionTreeRegressor(max_depth=5, random_state=42, criterion='mse')\n",
    "regressor.fit(train_X, train_y)\n",
    "pred_y = regressor.predict(test_X)\n",
    "\n",
    "regressor.feature_importances_"
   ]
  },
  {
   "cell_type": "code",
   "execution_count": 17,
   "metadata": {},
   "outputs": [],
   "source": [
    "# Loading\n",
    "names=['CRIM', 'ZN', 'INDUS', 'CHAS', 'NOX', 'RM', 'AGE', 'DIS', 'RAD', 'TAX', 'PTRATIO', 'B', 'LSTAT', 'MEDV']\n",
    "boston_df = pd.read_fwf(\"data/boston.txt\", skiprows=22, header=None, names=names)"
   ]
  },
  {
   "cell_type": "code",
   "execution_count": 18,
   "metadata": {},
   "outputs": [
    {
     "data": {
      "text/plain": [
       "PCA(copy=True, iterated_power='auto', n_components=3, random_state=42,\n",
       "    svd_solver='auto', tol=0.0, whiten=False)"
      ]
     },
     "execution_count": 18,
     "metadata": {},
     "output_type": "execute_result"
    }
   ],
   "source": [
    "# PCA\n",
    "from sklearn.decomposition import PCA\n",
    "\n",
    "reducAlgo = PCA(n_components=3, random_state=42)\n",
    "reducAlgo.fit(boston_df)"
   ]
  },
  {
   "cell_type": "code",
   "execution_count": 19,
   "metadata": {},
   "outputs": [
    {
     "data": {
      "text/plain": [
       "array([[ 1.19590474e-02, -4.36665270e-02,  2.83744889e-02,\n",
       "        -5.59586177e-05,  4.50286345e-04, -1.17256053e-03,\n",
       "         8.37463613e-02, -6.30054291e-03, -4.07448437e-04,\n",
       "         9.50703346e-01,  5.60896510e-03, -2.91616114e-01,\n",
       "         2.29882703e-02, -2.55631787e-02],\n",
       "       [-2.68394151e-03,  1.12710551e-03, -4.95491867e-03,\n",
       "        -1.03019000e-04,  1.72446668e-06,  3.61948092e-04,\n",
       "        -5.73094984e-03,  3.87751025e-04, -2.57985252e-04,\n",
       "        -2.92878465e-01, -2.52262969e-03, -9.56053453e-01,\n",
       "         5.79017684e-03, -8.82505565e-03],\n",
       "       [-6.70554825e-03,  6.32417452e-01, -8.84197568e-02,\n",
       "        -9.36684408e-04, -1.80194842e-03,  5.02438619e-03,\n",
       "        -7.52749041e-01,  3.68343751e-02, -4.96863881e-03,\n",
       "         9.51130090e-02, -1.16225861e-02, -2.46038588e-02,\n",
       "        -9.47714829e-02,  7.33119980e-02]])"
      ]
     },
     "execution_count": 19,
     "metadata": {},
     "output_type": "execute_result"
    }
   ],
   "source": [
    "# New axes\n",
    "reducAlgo.components_"
   ]
  },
  {
   "cell_type": "code",
   "execution_count": 20,
   "metadata": {},
   "outputs": [
    {
     "data": {
      "text/plain": [
       "array([30825.32346157,  6250.11740501,   821.8724105 ])"
      ]
     },
     "execution_count": 20,
     "metadata": {},
     "output_type": "execute_result"
    }
   ],
   "source": [
    "# Explained variance\n",
    "reducAlgo.explained_variance_"
   ]
  },
  {
   "cell_type": "code",
   "execution_count": 21,
   "metadata": {},
   "outputs": [
    {
     "data": {
      "text/plain": [
       "array([0.8053274 , 0.16328753, 0.02147184])"
      ]
     },
     "execution_count": 21,
     "metadata": {},
     "output_type": "execute_result"
    }
   ],
   "source": [
    "# Variance ratio\n",
    "reducAlgo.explained_variance_ratio_"
   ]
  },
  {
   "cell_type": "code",
   "execution_count": 22,
   "metadata": {},
   "outputs": [
    {
     "data": {
      "text/plain": [
       "0.9900867668895625"
      ]
     },
     "execution_count": 22,
     "metadata": {},
     "output_type": "execute_result"
    }
   ],
   "source": [
    "# Total explained variance ratio\n",
    "sum(reducAlgo.explained_variance_ratio_)"
   ]
  },
  {
   "cell_type": "code",
   "execution_count": 23,
   "metadata": {},
   "outputs": [
    {
     "data": {
      "text/plain": [
       "0.989990136695653"
      ]
     },
     "execution_count": 23,
     "metadata": {},
     "output_type": "execute_result"
    }
   ],
   "source": [
    "# Incremental PCA\n",
    "from sklearn.decomposition import IncrementalPCA\n",
    "\n",
    "reducAlgo = IncrementalPCA(n_components=3)\n",
    "reducAlgo.fit(boston_df)\n",
    "\n",
    "sum(reducAlgo.explained_variance_ratio_)"
   ]
  },
  {
   "cell_type": "code",
   "execution_count": 24,
   "metadata": {},
   "outputs": [],
   "source": [
    "# Boston loading for LDA\n",
    "names=['CRIM', 'ZN', 'INDUS', 'CHAS', 'NOX', 'RM', 'AGE', 'DIS', 'RAD', 'TAX', 'PTRATIO', 'B', 'LSTAT', 'MEDV']\n",
    "boston_df = pd.read_fwf(\"data/boston.txt\", skiprows=22, header=None, names=names)\n",
    "y = boston_df['MEDV'].astype(int)\n",
    "X = boston_df.drop(labels='MEDV', axis=1)"
   ]
  },
  {
   "cell_type": "code",
   "execution_count": 25,
   "metadata": {},
   "outputs": [
    {
     "data": {
      "text/plain": [
       "array([0.67486674, 0.12789097, 0.04164866])"
      ]
     },
     "execution_count": 25,
     "metadata": {},
     "output_type": "execute_result"
    }
   ],
   "source": [
    "# Linear Discriminant Analysis \n",
    "from sklearn.discriminant_analysis import LinearDiscriminantAnalysis\n",
    "\n",
    "lda = LinearDiscriminantAnalysis(n_components=3)\n",
    "lda.fit(X, y)\n",
    "\n",
    "lda.explained_variance_ratio_"
   ]
  },
  {
   "cell_type": "code",
   "execution_count": 26,
   "metadata": {},
   "outputs": [
    {
     "data": {
      "text/plain": [
       "0.844406372922109"
      ]
     },
     "execution_count": 26,
     "metadata": {},
     "output_type": "execute_result"
    }
   ],
   "source": [
    "# Total explained variance ratio\n",
    "sum(lda.explained_variance_ratio_)"
   ]
  },
  {
   "cell_type": "markdown",
   "metadata": {},
   "source": [
    "### Graphiques PCA vs LDA"
   ]
  },
  {
   "cell_type": "code",
   "execution_count": 27,
   "metadata": {},
   "outputs": [
    {
     "data": {
      "image/png": "[encoded data removed]",
      "text/plain": [
       "<Figure size 1080x288 with 3 Axes>"
      ]
     },
     "metadata": {
      "needs_background": "light"
     },
     "output_type": "display_data"
    }
   ],
   "source": [
    "# PCA graph\n",
    "\n",
    "import matplotlib.pyplot as plt\n",
    "\n",
    "def graph_acp2(X_PC2, y):\n",
    "    plt.figure(figsize=(15,4))\n",
    "    plt.subplot(1, 3, 1)\n",
    "    plt.xlabel('Principal Component 1')\n",
    "    plt.ylabel('Principal Component 2')\n",
    "    plt.scatter(X_PC2[:, 0], X_PC2[:, 1], c=y)\n",
    "    plt.subplot(1, 3, 2)\n",
    "    plt.title(\"Dimension de la plus grande variance :\")\n",
    "    plt.scatter(X_PC2[:, 0], np.ones(X_PC2.shape[0]), c=y)\n",
    "    plt.subplot(1, 3, 3)\n",
    "    plt.title(\"Dimension de 2nde variance :\")\n",
    "    plt.scatter(X_PC2[:, 1], np.ones(X_PC2.shape[0]), c=y)\n",
    "    plt.show()\n",
    "\n",
    "pca = PCA(random_state=42, n_components=3)\n",
    "X_PCA = pca.fit(boston_df).transform(boston_df)\n",
    "graph_acp2(X_PCA, boston_df['MEDV'])"
   ]
  },
  {
   "cell_type": "code",
   "execution_count": 28,
   "metadata": {},
   "outputs": [
    {
     "data": {
      "image/png": "[encoded data removed]",
      "text/plain": [
       "<Figure size 1080x288 with 3 Axes>"
      ]
     },
     "metadata": {
      "needs_background": "light"
     },
     "output_type": "display_data"
    }
   ],
   "source": [
    "# LDA graph\n",
    "from sklearn.discriminant_analysis import LinearDiscriminantAnalysis\n",
    "\n",
    "lda = LinearDiscriminantAnalysis(n_components=3)\n",
    "X_LDA = lda.fit(X, y).transform(X)\n",
    "\n",
    "graph_acp2(X_LDA, y)"
   ]
  },
  {
   "cell_type": "code",
   "execution_count": null,
   "metadata": {},
   "outputs": [],
   "source": []
  }
 ],
 "metadata": {
  "instance_type": "ml.t3.medium",
  "kernelspec": {
   "display_name": "Python 3 (Data Science)",
   "language": "python",
   "name": "python3__SAGEMAKER_INTERNAL__arn:aws:sagemaker:eu-west-1:470317259841:image/datascience-1.0"
  },
  "language_info": {
   "codemirror_mode": {
    "name": "ipython",
    "version": 3
   },
   "file_extension": ".py",
   "mimetype": "text/x-python",
   "name": "python",
   "nbconvert_exporter": "python",
   "pygments_lexer": "ipython3",
   "version": "3.7.10"
  }
 },
 "nbformat": 4,
 "nbformat_minor": 4
}
