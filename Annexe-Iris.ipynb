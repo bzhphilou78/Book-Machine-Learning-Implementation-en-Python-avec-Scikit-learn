{
 "cells": [
  {
   "cell_type": "markdown",
   "metadata": {},
   "source": [
    "*Le template est ici utilisé sur Iris. Le contexte d'utilisation a été inventé pour les besoins de l'exercice. Nous nous mettons dans la peau d'une ESN contactée par l'entreprise Flower Power.*\n",
    "\n",
    "*Le code correspondant à chaque phase a été mis dans le même fichier. Dans un vrai projet, la documentation serait séparée du code. De plus chaque phase pourrait faire l'objet d'un documentation à part.*"
   ]
  },
  {
   "cell_type": "code",
   "execution_count": 1,
   "metadata": {
    "collapsed": true,
    "jupyter": {
     "outputs_hidden": true
    }
   },
   "outputs": [
    {
     "name": "stdout",
     "output_type": "stream",
     "text": [
      "/opt/conda/lib/python3.7/site-packages/secretstorage/dhcrypto.py:16: CryptographyDeprecationWarning: int_from_bytes is deprecated, use int.from_bytes instead\n",
      "  from cryptography.utils import int_from_bytes\n",
      "/opt/conda/lib/python3.7/site-packages/secretstorage/util.py:25: CryptographyDeprecationWarning: int_from_bytes is deprecated, use int.from_bytes instead\n",
      "  from cryptography.utils import int_from_bytes\n",
      "Requirement already satisfied: pip in /opt/conda/lib/python3.7/site-packages (21.3)\n",
      "\u001b[33mWARNING: Running pip as the 'root' user can result in broken permissions and conflicting behaviour with the system package manager. It is recommended to use a virtual environment instead: https://pip.pypa.io/warnings/venv\u001b[0m\n",
      "/opt/conda/lib/python3.7/site-packages/secretstorage/dhcrypto.py:16: CryptographyDeprecationWarning: int_from_bytes is deprecated, use int.from_bytes instead\n",
      "  from cryptography.utils import int_from_bytes\n",
      "/opt/conda/lib/python3.7/site-packages/secretstorage/util.py:25: CryptographyDeprecationWarning: int_from_bytes is deprecated, use int.from_bytes instead\n",
      "  from cryptography.utils import int_from_bytes\n",
      "Requirement already satisfied: numpy in /opt/conda/lib/python3.7/site-packages (1.21.2)\n",
      "\u001b[33mWARNING: Running pip as the 'root' user can result in broken permissions and conflicting behaviour with the system package manager. It is recommended to use a virtual environment instead: https://pip.pypa.io/warnings/venv\u001b[0m\n",
      "/opt/conda/lib/python3.7/site-packages/secretstorage/dhcrypto.py:16: CryptographyDeprecationWarning: int_from_bytes is deprecated, use int.from_bytes instead\n",
      "  from cryptography.utils import int_from_bytes\n",
      "/opt/conda/lib/python3.7/site-packages/secretstorage/util.py:25: CryptographyDeprecationWarning: int_from_bytes is deprecated, use int.from_bytes instead\n",
      "  from cryptography.utils import int_from_bytes\n",
      "Requirement already satisfied: seaborn in /opt/conda/lib/python3.7/site-packages (0.11.2)\n",
      "Requirement already satisfied: scipy>=1.0 in /opt/conda/lib/python3.7/site-packages (from seaborn) (1.4.1)\n",
      "Requirement already satisfied: numpy>=1.15 in /opt/conda/lib/python3.7/site-packages (from seaborn) (1.21.2)\n",
      "Requirement already satisfied: pandas>=0.23 in /opt/conda/lib/python3.7/site-packages (from seaborn) (1.3.3)\n",
      "Requirement already satisfied: matplotlib>=2.2 in /opt/conda/lib/python3.7/site-packages (from seaborn) (3.1.3)\n",
      "Requirement already satisfied: cycler>=0.10 in /opt/conda/lib/python3.7/site-packages (from matplotlib>=2.2->seaborn) (0.10.0)\n",
      "Requirement already satisfied: kiwisolver>=1.0.1 in /opt/conda/lib/python3.7/site-packages (from matplotlib>=2.2->seaborn) (1.1.0)\n",
      "Requirement already satisfied: pyparsing!=2.0.4,!=2.1.2,!=2.1.6,>=2.0.1 in /opt/conda/lib/python3.7/site-packages (from matplotlib>=2.2->seaborn) (2.4.6)\n",
      "Requirement already satisfied: python-dateutil>=2.1 in /opt/conda/lib/python3.7/site-packages (from matplotlib>=2.2->seaborn) (2.8.1)\n",
      "Requirement already satisfied: pytz>=2017.3 in /opt/conda/lib/python3.7/site-packages (from pandas>=0.23->seaborn) (2019.3)\n",
      "Requirement already satisfied: six in /opt/conda/lib/python3.7/site-packages (from cycler>=0.10->matplotlib>=2.2->seaborn) (1.14.0)\n",
      "Requirement already satisfied: setuptools in /opt/conda/lib/python3.7/site-packages (from kiwisolver>=1.0.1->matplotlib>=2.2->seaborn) (58.1.0)\n",
      "\u001b[33mWARNING: Running pip as the 'root' user can result in broken permissions and conflicting behaviour with the system package manager. It is recommended to use a virtual environment instead: https://pip.pypa.io/warnings/venv\u001b[0m\n"
     ]
    }
   ],
   "source": [
    "!pip install -U pip\n",
    "!pip install -U numpy\n",
    "!pip install -U seaborn"
   ]
  },
  {
   "cell_type": "markdown",
   "metadata": {},
   "source": [
    "# Business Understanding\n",
    "\n",
    "Cette phase a été menée via 2 ateliers avec le client.\n",
    "\n",
    "## Objectifs métiers\n",
    "\n",
    "### Contexte projet\n",
    "\n",
    "L'entreprise d'horticulture \"Flower Power\" vend de nombreuses fleurs. Ses clients lui demandent souvent des conseils pour savoir quelles plantes poussent dans leurs jardins.\n",
    "\n",
    "Flower Power souhaite donc proposer une application mobile où les clients pourraient déterminer automatiquement la variété. \n",
    "\n",
    "Pour cela, il faudra :\n",
    "* une application mobile, type Android ou IoS\n",
    "* un premier modèle pour détecter les fleurs\n",
    "* une application de mesure des fleurs détectées\n",
    "* un deuxième modèle permettant de classer la fleur d'après ses mensurations.\n",
    "\n",
    "### Objectifs métiers\n",
    "\n",
    "Un PoC est lancé sur le deuxième modèle. En effet, les autres points nécessaires de l'application complète ont été estimés moins risqués. L'entreprise ne connaissant pas réellement le domaine du Machine Learning, ils souhaitent donc valider les possibilités de reconnaissance des variétés d'Iris (leur plus grosse vente).\n",
    "\n",
    "Les espèces choisies sont les iris Versicolor, Virginica et Setosa.\n",
    "\n",
    "### Critères de succès métiers\n",
    "\n",
    "Dans le cadre de ce PoC et pour valider l'approche, seul le dernier modèle sera développé. Sur une plante possédant plusieurs fleurs, l'entreprise souhaite que le résultat soit juste dans au moins 90% des cas (on part sur au moins 3 fleurs par plant).\n",
    "\n",
    "## Évaluation de la situation\n",
    "\n",
    "### Ressources, Spécifications, Hypothèses et Contraintes\n",
    "\n",
    "**Ressources** : \n",
    "\n",
    "L'entreprise Flower Power ne possède pas de ressources pour ce PoC. Nous utiliserons donc nos ressources propres pour ce PoC, dont nos équipes Data Science.\n",
    "\n",
    "**Spécifications** : \n",
    "\n",
    "Le modèle est développé ici en PoC, et ne sera donc pas intégré dans une application plus globale. A terme cependant, il sera nécessaire de créer une API qui recevra les informations de taille sous la forme d'un json et répondra avec la variété reconnue. Cette API sera hébergée dans le cloud.\n",
    "\n",
    "**Hypothèses** : \n",
    "\n",
    "L'hypothèse principale du PoC est que la reconnaissance des Iris est représentative de la difficulté qui sera rencontrée pour les autres fleurs.\n",
    "\n",
    "**Contraintes** : \n",
    "\n",
    "Le PoC doit être fini avant la présentation au CoDir pour valider l'ensemble du projet, soit un délai total de 5j ouvrés.\n",
    "\n",
    "### Risques\n",
    "\n",
    "| Risque | Probabilité | Impact | Mitigation |\n",
    "|---|---|---|---|\n",
    "|Manque de données|Elevée|Elevé|Une phase de mesure a été demandée en amont, avant le lancement effectif du projet, pour obtenir suffisamment de données|\n",
    "|Données non représentatives|Moyenne|Elevé|Flower Power a confirmé qu'ils pensaient que l'exemple était vraiment représentatif. Un deuxième PoC sur une autre variété de fleurs sera peut être nécessaire.|\n",
    "|Manque de temps|Moyenne|Fort|L'approche CRISP est idéale, car elle permet de mieux prévoir et gérer l'avancement du projet|\n",
    "\n",
    "### Terminologie\n",
    "\n",
    "*La terminologie du Machine Learning est ici supprimée pour un gain de place, mais il faudrait expliquer tous les termes principaux, voire faire un atelier dédié avec le client sous la forme d'une mini formation.*\n",
    "\n",
    "Les Iris sont des fleurs généralement violettes, faisant partie des plantes vivaces (qui survivent donc plusieurs années). Il en existe plus de 200 espèces.\n",
    "\n",
    "Les fleurs contiennent au centre le pistil (organe reproducteur), puis la corolle, composée des pétales, et enfin le calice, composé des sépales.\n",
    "\n",
    "Voici un schéma d'explication issu de Wikipedia :\n",
    "\n",
    "![image](https://upload.wikimedia.org/wikipedia/commons/thumb/3/37/Mature_flower_diagram-fr.svg/2560px-Mature_flower_diagram-fr.svg.png)\n",
    "\n",
    "### Coûts et bénéfices\n",
    "\n",
    "Ce projet va service à lancer ou non le projet global. Les gains sont donc surtout d'économiser en ne faisant pas le projet si les risques de réussite sont trop faibles.\n",
    "\n",
    "## Objectifs ML\n",
    "\n",
    "Une classification sera effectuée. Au moins 90% des plants d'au moins 3 fleurs doivent être reconnus, et donc il faut au moins une majorité de fleurs dans la bonne catégorie pour que l'ensemble du plant soit bien classé.\n",
    "\n",
    "Les erreurs ayant toutes le même poids, c'est donc l'accuracy qui sera utilisée comme métrique, avec au moins 70% de réussite pour valider le modèle.\n",
    "\n",
    "## Planification projet\n",
    "\n",
    "A la vue des contraintes temporelles, une seule itération complète de 5j sera effectuée. "
   ]
  },
  {
   "cell_type": "markdown",
   "metadata": {},
   "source": [
    "# Data Understanding\n",
    "\n",
    "Un fichier de données a été fourni pour ce PoC.\n",
    "\n",
    "## Données source\n",
    "\n",
    "Le fichier source s'appelle \"iris.csv\". Il s'agit d'un fichier contenant les mesures de 150 iris, soit 50 par espèce, avec à chaque fois les tailles des sépales et des pétales.\n",
    "\n",
    "L'ensemble des mesures ont été prises le même jour, par la même personne, avec les mêmes instruments, pour éviter tout biais potentiel.\n",
    "\n",
    "*En réalité le dataset a été constitué par R.A. Fisher en 1936.*\n",
    "\n",
    "## Description des données\n",
    "\n",
    "### Description des datasets\n",
    "\n",
    "Un seul dataset a été fourni : iris.csv\n",
    "\n",
    "Il est possible d'utiliser un tableau pour la mise en forme :\n",
    "\n",
    "| Dataset | Source | Année | Nb lignes | Nb features | Données manquantes ? |\n",
    "|---|---|---|---|---|---|\n",
    "|iris.csv|Flower Power|2021|150|5|Pas de données manquantes|"
   ]
  },
  {
   "cell_type": "code",
   "execution_count": 2,
   "metadata": {},
   "outputs": [
    {
     "data": {
      "text/html": [
       "<div>\n",
       "<style scoped>\n",
       "    .dataframe tbody tr th:only-of-type {\n",
       "        vertical-align: middle;\n",
       "    }\n",
       "\n",
       "    .dataframe tbody tr th {\n",
       "        vertical-align: top;\n",
       "    }\n",
       "\n",
       "    .dataframe thead th {\n",
       "        text-align: right;\n",
       "    }\n",
       "</style>\n",
       "<table border=\"1\" class=\"dataframe\">\n",
       "  <thead>\n",
       "    <tr style=\"text-align: right;\">\n",
       "      <th></th>\n",
       "      <th>sepal_length</th>\n",
       "      <th>sepal_width</th>\n",
       "      <th>petal_length</th>\n",
       "      <th>petal_width</th>\n",
       "      <th>class</th>\n",
       "    </tr>\n",
       "  </thead>\n",
       "  <tbody>\n",
       "    <tr>\n",
       "      <th>0</th>\n",
       "      <td>5.1</td>\n",
       "      <td>3.5</td>\n",
       "      <td>1.4</td>\n",
       "      <td>0.2</td>\n",
       "      <td>Iris-setosa</td>\n",
       "    </tr>\n",
       "    <tr>\n",
       "      <th>1</th>\n",
       "      <td>4.9</td>\n",
       "      <td>3.0</td>\n",
       "      <td>1.4</td>\n",
       "      <td>0.2</td>\n",
       "      <td>Iris-setosa</td>\n",
       "    </tr>\n",
       "    <tr>\n",
       "      <th>2</th>\n",
       "      <td>4.7</td>\n",
       "      <td>3.2</td>\n",
       "      <td>1.3</td>\n",
       "      <td>0.2</td>\n",
       "      <td>Iris-setosa</td>\n",
       "    </tr>\n",
       "    <tr>\n",
       "      <th>3</th>\n",
       "      <td>4.6</td>\n",
       "      <td>3.1</td>\n",
       "      <td>1.5</td>\n",
       "      <td>0.2</td>\n",
       "      <td>Iris-setosa</td>\n",
       "    </tr>\n",
       "    <tr>\n",
       "      <th>4</th>\n",
       "      <td>5.0</td>\n",
       "      <td>3.6</td>\n",
       "      <td>1.4</td>\n",
       "      <td>0.2</td>\n",
       "      <td>Iris-setosa</td>\n",
       "    </tr>\n",
       "  </tbody>\n",
       "</table>\n",
       "</div>"
      ],
      "text/plain": [
       "   sepal_length  sepal_width  petal_length  petal_width        class\n",
       "0           5.1          3.5           1.4          0.2  Iris-setosa\n",
       "1           4.9          3.0           1.4          0.2  Iris-setosa\n",
       "2           4.7          3.2           1.3          0.2  Iris-setosa\n",
       "3           4.6          3.1           1.5          0.2  Iris-setosa\n",
       "4           5.0          3.6           1.4          0.2  Iris-setosa"
      ]
     },
     "execution_count": 2,
     "metadata": {},
     "output_type": "execute_result"
    }
   ],
   "source": [
    "import pandas as pd\n",
    "\n",
    "# Loading the dataset\n",
    "iris_df = pd.read_csv(\"data/iris.csv\")\n",
    "\n",
    "iris_df.head()"
   ]
  },
  {
   "cell_type": "code",
   "execution_count": 3,
   "metadata": {},
   "outputs": [
    {
     "data": {
      "text/plain": [
       "(150, 5)"
      ]
     },
     "execution_count": 3,
     "metadata": {},
     "output_type": "execute_result"
    }
   ],
   "source": [
    "iris_df.shape"
   ]
  },
  {
   "cell_type": "markdown",
   "metadata": {},
   "source": [
    "### Feature Description\n",
    "\n",
    "Voici l'explication des différents champs :\n",
    "\n",
    "| Feature | Unité | Format | Nb manquant | Description |\n",
    "|---|---|---|---|---|\n",
    "|sepal_length|cm|réel, une seule décimale|0|Longueur des sépales en cm|\n",
    "|sepal_width|cm|réel, une seule décimale|0|Largeur des sépales en cm|\n",
    "|petal_length|cm|réel, une seule décimale|0|Longueur des pétales en cm|\n",
    "|petal_width|cm|réel, une seule décimale|0|Largeur des pétales en cm|\n",
    "|class|X|Catégorie|0|Espèce parmi \"Iris-setosa\", \"Iris-virginica\" et \"Iris-versicolor\"|"
   ]
  },
  {
   "cell_type": "code",
   "execution_count": 4,
   "metadata": {},
   "outputs": [
    {
     "data": {
      "text/plain": [
       "sepal_length     float64\n",
       "sepal_width      float64\n",
       "petal_length     float64\n",
       "petal_width      float64\n",
       "class           category\n",
       "dtype: object"
      ]
     },
     "execution_count": 4,
     "metadata": {},
     "output_type": "execute_result"
    }
   ],
   "source": [
    "iris_df['class'] = iris_df['class'].astype('category')\n",
    "iris_df.dtypes"
   ]
  },
  {
   "cell_type": "code",
   "execution_count": 5,
   "metadata": {},
   "outputs": [
    {
     "data": {
      "text/plain": [
       "sepal_length    0\n",
       "sepal_width     0\n",
       "petal_length    0\n",
       "petal_width     0\n",
       "class           0\n",
       "dtype: int64"
      ]
     },
     "execution_count": 5,
     "metadata": {},
     "output_type": "execute_result"
    }
   ],
   "source": [
    "iris_df.isna().sum()"
   ]
  },
  {
   "cell_type": "markdown",
   "metadata": {},
   "source": [
    "## Exploration des données\n",
    "\n",
    "### Data Formating\n",
    "\n",
    "Il n'y a pas de modification des formats nécessaires\n",
    "\n",
    "### Statistiques univariées\n",
    "\n",
    "Voici les statistiques sur les 4 variables explicatives :"
   ]
  },
  {
   "cell_type": "code",
   "execution_count": 6,
   "metadata": {},
   "outputs": [
    {
     "data": {
      "text/html": [
       "<div>\n",
       "<style scoped>\n",
       "    .dataframe tbody tr th:only-of-type {\n",
       "        vertical-align: middle;\n",
       "    }\n",
       "\n",
       "    .dataframe tbody tr th {\n",
       "        vertical-align: top;\n",
       "    }\n",
       "\n",
       "    .dataframe thead th {\n",
       "        text-align: right;\n",
       "    }\n",
       "</style>\n",
       "<table border=\"1\" class=\"dataframe\">\n",
       "  <thead>\n",
       "    <tr style=\"text-align: right;\">\n",
       "      <th></th>\n",
       "      <th>sepal_length</th>\n",
       "      <th>sepal_width</th>\n",
       "      <th>petal_length</th>\n",
       "      <th>petal_width</th>\n",
       "    </tr>\n",
       "  </thead>\n",
       "  <tbody>\n",
       "    <tr>\n",
       "      <th>count</th>\n",
       "      <td>150.000000</td>\n",
       "      <td>150.000000</td>\n",
       "      <td>150.000000</td>\n",
       "      <td>150.000000</td>\n",
       "    </tr>\n",
       "    <tr>\n",
       "      <th>mean</th>\n",
       "      <td>5.843333</td>\n",
       "      <td>3.054000</td>\n",
       "      <td>3.758667</td>\n",
       "      <td>1.198667</td>\n",
       "    </tr>\n",
       "    <tr>\n",
       "      <th>std</th>\n",
       "      <td>0.828066</td>\n",
       "      <td>0.433594</td>\n",
       "      <td>1.764420</td>\n",
       "      <td>0.763161</td>\n",
       "    </tr>\n",
       "    <tr>\n",
       "      <th>min</th>\n",
       "      <td>4.300000</td>\n",
       "      <td>2.000000</td>\n",
       "      <td>1.000000</td>\n",
       "      <td>0.100000</td>\n",
       "    </tr>\n",
       "    <tr>\n",
       "      <th>25%</th>\n",
       "      <td>5.100000</td>\n",
       "      <td>2.800000</td>\n",
       "      <td>1.600000</td>\n",
       "      <td>0.300000</td>\n",
       "    </tr>\n",
       "    <tr>\n",
       "      <th>50%</th>\n",
       "      <td>5.800000</td>\n",
       "      <td>3.000000</td>\n",
       "      <td>4.350000</td>\n",
       "      <td>1.300000</td>\n",
       "    </tr>\n",
       "    <tr>\n",
       "      <th>75%</th>\n",
       "      <td>6.400000</td>\n",
       "      <td>3.300000</td>\n",
       "      <td>5.100000</td>\n",
       "      <td>1.800000</td>\n",
       "    </tr>\n",
       "    <tr>\n",
       "      <th>max</th>\n",
       "      <td>7.900000</td>\n",
       "      <td>4.400000</td>\n",
       "      <td>6.900000</td>\n",
       "      <td>2.500000</td>\n",
       "    </tr>\n",
       "  </tbody>\n",
       "</table>\n",
       "</div>"
      ],
      "text/plain": [
       "       sepal_length  sepal_width  petal_length  petal_width\n",
       "count    150.000000   150.000000    150.000000   150.000000\n",
       "mean       5.843333     3.054000      3.758667     1.198667\n",
       "std        0.828066     0.433594      1.764420     0.763161\n",
       "min        4.300000     2.000000      1.000000     0.100000\n",
       "25%        5.100000     2.800000      1.600000     0.300000\n",
       "50%        5.800000     3.000000      4.350000     1.300000\n",
       "75%        6.400000     3.300000      5.100000     1.800000\n",
       "max        7.900000     4.400000      6.900000     2.500000"
      ]
     },
     "execution_count": 6,
     "metadata": {},
     "output_type": "execute_result"
    }
   ],
   "source": [
    "iris_df.describe()"
   ]
  },
  {
   "cell_type": "markdown",
   "metadata": {},
   "source": [
    "Le comportement des variables ne correspond cependant pas à des distributions gaussiennes, surtout en ce qui concerne les tailles des pétales :"
   ]
  },
  {
   "cell_type": "code",
   "execution_count": 7,
   "metadata": {},
   "outputs": [
    {
     "data": {
      "text/plain": [
       "array([[<matplotlib.axes._subplots.AxesSubplot object at 0x7f49c2410a50>,\n",
       "        <matplotlib.axes._subplots.AxesSubplot object at 0x7f49bfa16d10>],\n",
       "       [<matplotlib.axes._subplots.AxesSubplot object at 0x7f49bf9dae50>,\n",
       "        <matplotlib.axes._subplots.AxesSubplot object at 0x7f49bf992b10>]],\n",
       "      dtype=object)"
      ]
     },
     "execution_count": 7,
     "metadata": {},
     "output_type": "execute_result"
    },
    {
     "data": {
      "image/png": "[encoded data removed]",
      "text/plain": [
       "<Figure size 432x288 with 4 Axes>"
      ]
     },
     "metadata": {
      "needs_background": "light"
     },
     "output_type": "display_data"
    }
   ],
   "source": [
    "iris_df.hist(bins=20)"
   ]
  },
  {
   "cell_type": "markdown",
   "metadata": {},
   "source": [
    "Les catégories sont également distribuées :"
   ]
  },
  {
   "cell_type": "code",
   "execution_count": 8,
   "metadata": {},
   "outputs": [
    {
     "data": {
      "text/plain": [
       "<matplotlib.axes._subplots.AxesSubplot at 0x7f49bf7d1350>"
      ]
     },
     "execution_count": 8,
     "metadata": {},
     "output_type": "execute_result"
    },
    {
     "data": {
      "image/png": "[encoded data removed]",
      "text/plain": [
       "<Figure size 432x288 with 1 Axes>"
      ]
     },
     "metadata": {},
     "output_type": "display_data"
    }
   ],
   "source": [
    "iris_df['class'].value_counts().plot(kind='pie')"
   ]
  },
  {
   "cell_type": "markdown",
   "metadata": {},
   "source": [
    "### Statistiques bivariées\n",
    "\n",
    "Une analyse bivariée montre que les tailles des pétales correspondent à la somme de 3 gaussiennes différentes, une part type d'Iris."
   ]
  },
  {
   "cell_type": "code",
   "execution_count": 9,
   "metadata": {},
   "outputs": [
    {
     "data": {
      "text/plain": [
       "array([[<matplotlib.axes._subplots.AxesSubplot object at 0x7f49bf761a10>,\n",
       "        <matplotlib.axes._subplots.AxesSubplot object at 0x7f49bf70bb50>],\n",
       "       [<matplotlib.axes._subplots.AxesSubplot object at 0x7f49bf6cad10>,\n",
       "        <matplotlib.axes._subplots.AxesSubplot object at 0x7f49bf682950>]],\n",
       "      dtype=object)"
      ]
     },
     "execution_count": 9,
     "metadata": {},
     "output_type": "execute_result"
    },
    {
     "data": {
      "image/png": "[encoded data removed]",
      "text/plain": [
       "<Figure size 432x288 with 4 Axes>"
      ]
     },
     "metadata": {
      "needs_background": "light"
     },
     "output_type": "display_data"
    }
   ],
   "source": [
    "iris_df['petal_length'].hist(by=iris_df['class'])"
   ]
  },
  {
   "cell_type": "markdown",
   "metadata": {},
   "source": [
    "De même, les pétales montrent de fortes disparités en fonction des espèces : \n",
    "* les Setosa ont de petites pétales en largeur et longueur\n",
    "* les Versicolor sont de taille moyenne\n",
    "* les Virginica ont de grandes pétales."
   ]
  },
  {
   "cell_type": "code",
   "execution_count": 10,
   "metadata": {},
   "outputs": [
    {
     "data": {
      "text/plain": [
       "<seaborn.axisgrid.PairGrid at 0x7f49bf5f5e10>"
      ]
     },
     "execution_count": 10,
     "metadata": {},
     "output_type": "execute_result"
    },
    {
     "data": {
      "image/png": "[encoded data removed]",
      "text/plain": [
       "<Figure size 463.5x360 with 1 Axes>"
      ]
     },
     "metadata": {
      "needs_background": "light"
     },
     "output_type": "display_data"
    }
   ],
   "source": [
    "import seaborn as sns\n",
    "\n",
    "sns.pairplot(iris_df, x_vars=['petal_length'], y_vars=['petal_width'], height=5, hue='class', markers=['o', 'v', 's'])"
   ]
  },
  {
   "cell_type": "markdown",
   "metadata": {},
   "source": [
    "Les différences sont moins notables au niveau des sépales :"
   ]
  },
  {
   "cell_type": "code",
   "execution_count": 11,
   "metadata": {},
   "outputs": [
    {
     "data": {
      "text/plain": [
       "<seaborn.axisgrid.PairGrid at 0x7f49bd3067d0>"
      ]
     },
     "execution_count": 11,
     "metadata": {},
     "output_type": "execute_result"
    },
    {
     "data": {
      "image/png": "[encoded data removed]",
      "text/plain": [
       "<Figure size 463.5x360 with 1 Axes>"
      ]
     },
     "metadata": {
      "needs_background": "light"
     },
     "output_type": "display_data"
    }
   ],
   "source": [
    "import seaborn as sns\n",
    "\n",
    "sns.pairplot(iris_df, x_vars=['sepal_length'], y_vars=['sepal_width'], height=5, hue='class', markers=['o', 'v', 's'])"
   ]
  },
  {
   "cell_type": "markdown",
   "metadata": {},
   "source": [
    "## Qualité des données\n",
    "\n",
    "### Métriques\n",
    "\n",
    "Les métriques sont les valeurs manquantes et les valeurs aberrantes.\n",
    "\n",
    "### Data Quality Evaluation\n",
    "\n",
    "Aucun souci de qualité n'a été relevé.\n",
    "\n",
    "## Conclusion sur l'analyse des données\n",
    "\n",
    "Les tailles des pétales semblent être l'indicateur le plus parlant. De plus les Iris Setosa semblent plus facile à discriminer que les deux autres."
   ]
  },
  {
   "cell_type": "markdown",
   "metadata": {},
   "source": [
    "# Data Preparation\n",
    "\n",
    "*Les données sont ici directement prêtes à être utilisées, mais cette phase peut être très longue.*\n",
    "\n",
    "## Sélection des données\n",
    "\n",
    "Toutes les données du dataset original seront conservées. Un ensemble de test est créé contenant 20% du dataset."
   ]
  },
  {
   "cell_type": "code",
   "execution_count": 12,
   "metadata": {},
   "outputs": [],
   "source": [
    "from sklearn.model_selection import train_test_split\n",
    "\n",
    "y = iris_df['class']\n",
    "X = iris_df.drop(labels='class', axis=1)\n",
    "train_X, test_X, train_y, test_y = train_test_split(X, y, train_size=0.8, test_size=0.2, random_state=42)"
   ]
  },
  {
   "cell_type": "markdown",
   "metadata": {},
   "source": [
    "## Nettoyage des données\n",
    "\n",
    "Il n'y a pas non plus de nettoyage à faire.\n",
    "\n",
    "## Construction des données\n",
    "\n",
    "Seuls les champs d'origine seront conservés.\n",
    "\n",
    "## Intégration de données\n",
    "\n",
    "Aucune donnée extérieure ne sera utilisée.\n",
    "\n",
    "## Formatage\n",
    "\n",
    "Les données n'ont pas besoin de formatage particulier. Par contre les différentes tailles sont normalisées selon une normalisation robuste."
   ]
  },
  {
   "cell_type": "code",
   "execution_count": 13,
   "metadata": {},
   "outputs": [],
   "source": [
    "from sklearn.pipeline import Pipeline\n",
    "from sklearn.preprocessing import RobustScaler\n",
    "\n",
    "pipeline = Pipeline([('robustscaler', RobustScaler())])\n",
    "train_X = pipeline.fit_transform(train_X)"
   ]
  },
  {
   "cell_type": "markdown",
   "metadata": {},
   "source": [
    "# Modeling\n",
    "\n",
    "## Généralités\n",
    "\n",
    "### Design des tests\n",
    "\n",
    "Le modèle choisi sera testé sur l'ensemble de test. Pour l'entrainer, une cross-validation à 3 folds sera réalisée sur l'ensemble d'entrainement.\n",
    "\n",
    "La métrique utilisée est l'accuracy.\n",
    "\n",
    "### Techniques de modélisation\n",
    "\n",
    "*Des détails sont disponibles dans le livre. Les algorithmes ne seront pas détaillés ici.*\n",
    "\n",
    "Différents modèles seront testés :\n",
    "* un arbre de décision\n",
    "* random forest\n",
    "* KNN.\n",
    "\n",
    "Une optimisation des hyperparamètres pourra être faite via une grille.\n",
    "\n",
    "## Présentation des différents modèles réalisés\n",
    "\n",
    "### Modèle 1 : arbre de décision\n",
    "\n",
    "Un arbre de décision (DecisionTreeClassifier) donne une accuracy de presque 95% avec comme hyperparamètres :\n",
    "* max_depth : 3\n",
    "* min_samples_split : 2 (valeur par défaut)\n",
    "* splitter : best (valeur par défaut).\n",
    "\n",
    "Ce résultat semble suffisant pour le PoC, avec une faible complexité. Il est à noter que plus de 93% de la décision vient de la longueur de la pétale, le reste de sa largeur. Les tailles des sépales ne sont pas prises en compte. Cela est cohérent avec l'analyse statistique."
   ]
  },
  {
   "cell_type": "code",
   "execution_count": 14,
   "metadata": {},
   "outputs": [
    {
     "data": {
      "text/plain": [
       "GridSearchCV(cv=3, estimator=DecisionTreeClassifier(random_state=42),\n",
       "             param_grid={'max_depth': [3, 4, 5], 'min_samples_split': [2, 3, 4],\n",
       "                         'splitter': ['best', 'random']},\n",
       "             scoring='accuracy')"
      ]
     },
     "execution_count": 14,
     "metadata": {},
     "output_type": "execute_result"
    }
   ],
   "source": [
    "from sklearn.model_selection import GridSearchCV\n",
    "from sklearn.tree import DecisionTreeClassifier\n",
    "\n",
    "params_grid = {'max_depth':[3, 4, 5],\n",
    "         'splitter':['best', 'random'],\n",
    "         'min_samples_split':[2, 3, 4]}\n",
    "tree_classifier = DecisionTreeClassifier(random_state=42)\n",
    "grid_classifier = GridSearchCV(tree_classifier, param_grid=params_grid, scoring='accuracy', cv=3)\n",
    "\n",
    "grid_classifier.fit(train_X, train_y)"
   ]
  },
  {
   "cell_type": "code",
   "execution_count": 15,
   "metadata": {},
   "outputs": [
    {
     "data": {
      "text/plain": [
       "DecisionTreeClassifier(max_depth=3, random_state=42)"
      ]
     },
     "execution_count": 15,
     "metadata": {},
     "output_type": "execute_result"
    }
   ],
   "source": [
    "grid_classifier.best_estimator_"
   ]
  },
  {
   "cell_type": "code",
   "execution_count": 16,
   "metadata": {},
   "outputs": [
    {
     "data": {
      "text/plain": [
       "0.9499999999999998"
      ]
     },
     "execution_count": 16,
     "metadata": {},
     "output_type": "execute_result"
    }
   ],
   "source": [
    "grid_classifier.best_score_"
   ]
  },
  {
   "cell_type": "code",
   "execution_count": 17,
   "metadata": {},
   "outputs": [
    {
     "data": {
      "text/plain": [
       "array([0.        , 0.        , 0.93462632, 0.06537368])"
      ]
     },
     "execution_count": 17,
     "metadata": {},
     "output_type": "execute_result"
    }
   ],
   "source": [
    "grid_classifier.best_estimator_.feature_importances_"
   ]
  },
  {
   "cell_type": "markdown",
   "metadata": {},
   "source": [
    "### Modèle 2 : Random Forest\n",
    "\n",
    "Une random forest (RandomForestClassifier) donne une accuracy de presque 96% avec comme hyperparamètres :\n",
    "* n_estimators : 10\n",
    "* max_depth : 3\n",
    "* min_samples_split : 2 (valeur par défaut).\n",
    "\n",
    "Ce modèle apporte un gain d'1% par rappport à un arbre de décision mais en ayant alors 10 arbres. La complexité ajoutée ne semble pas justifiée.\n",
    "\n",
    "La décision est alors bien plus complexe, avec environ 14% sur la longueur des sépales, 45% sur la longueur des pétales et 41% sur la largeur des pétales."
   ]
  },
  {
   "cell_type": "code",
   "execution_count": 18,
   "metadata": {},
   "outputs": [
    {
     "data": {
      "text/plain": [
       "GridSearchCV(cv=3, estimator=RandomForestClassifier(random_state=42),\n",
       "             param_grid={'max_depth': [2, 3, 4], 'min_samples_split': [2, 3, 4],\n",
       "                         'n_estimators': [5, 10, 15]},\n",
       "             scoring='accuracy')"
      ]
     },
     "execution_count": 18,
     "metadata": {},
     "output_type": "execute_result"
    }
   ],
   "source": [
    "from sklearn.ensemble import RandomForestClassifier\n",
    "\n",
    "params_grid = {'n_estimators':[5, 10, 15],\n",
    "         'max_depth':[2, 3, 4],\n",
    "         'min_samples_split':[2, 3, 4]}\n",
    "forest_classifier = RandomForestClassifier(random_state=42)\n",
    "gridf_classifier = GridSearchCV(forest_classifier, param_grid=params_grid, scoring='accuracy', cv=3)\n",
    "\n",
    "gridf_classifier.fit(train_X, train_y)"
   ]
  },
  {
   "cell_type": "code",
   "execution_count": 19,
   "metadata": {},
   "outputs": [
    {
     "data": {
      "text/plain": [
       "RandomForestClassifier(max_depth=3, n_estimators=10, random_state=42)"
      ]
     },
     "execution_count": 19,
     "metadata": {},
     "output_type": "execute_result"
    }
   ],
   "source": [
    "gridf_classifier.best_estimator_"
   ]
  },
  {
   "cell_type": "code",
   "execution_count": 20,
   "metadata": {},
   "outputs": [
    {
     "data": {
      "text/plain": [
       "0.9583333333333334"
      ]
     },
     "execution_count": 20,
     "metadata": {},
     "output_type": "execute_result"
    }
   ],
   "source": [
    "gridf_classifier.best_score_"
   ]
  },
  {
   "cell_type": "code",
   "execution_count": 21,
   "metadata": {},
   "outputs": [
    {
     "data": {
      "text/plain": [
       "array([0.13515808, 0.01144637, 0.44830232, 0.40509323])"
      ]
     },
     "execution_count": 21,
     "metadata": {},
     "output_type": "execute_result"
    }
   ],
   "source": [
    "gridf_classifier.best_estimator_.feature_importances_"
   ]
  },
  {
   "cell_type": "markdown",
   "metadata": {},
   "source": [
    "### Modèle 3 : K Plus Proches Voisins (KNN)\n",
    "\n",
    "Un algorithme KNN (KNeighborsClassifier) donne une accuracy de presque 93% avec comme hyperparamètres :\n",
    "* n_neighbors : 3\n",
    "* algorithm : 'ball_tree'\n",
    "* weights : 'distance'.\n",
    "\n",
    "Cet algorithme ne nécessite pas, en tant que tel, de créer un modèle. Cependant ses résultats sont moins bons qu'un arbre de décision, et il ne permet pas de connaitre le rôle de chaque variable."
   ]
  },
  {
   "cell_type": "code",
   "execution_count": 22,
   "metadata": {},
   "outputs": [
    {
     "data": {
      "text/plain": [
       "GridSearchCV(cv=3, estimator=KNeighborsClassifier(),\n",
       "             param_grid={'algorithm': ['ball_tree', 'kd_tree', 'brute'],\n",
       "                         'n_neighbors': [3, 5, 7],\n",
       "                         'weights': ['distance', 'uniform']},\n",
       "             scoring='accuracy')"
      ]
     },
     "execution_count": 22,
     "metadata": {},
     "output_type": "execute_result"
    }
   ],
   "source": [
    "from sklearn.neighbors import KNeighborsClassifier\n",
    "\n",
    "params_grid = {'n_neighbors':[3, 5, 7],\n",
    "         'weights':['distance', 'uniform'],\n",
    "         'algorithm':['ball_tree', 'kd_tree', 'brute']}\n",
    "knn_classifier = KNeighborsClassifier()\n",
    "gridk_classifier = GridSearchCV(knn_classifier, param_grid=params_grid, scoring='accuracy', cv=3)\n",
    "\n",
    "gridk_classifier.fit(train_X, train_y)"
   ]
  },
  {
   "cell_type": "code",
   "execution_count": 23,
   "metadata": {},
   "outputs": [
    {
     "data": {
      "text/plain": [
       "KNeighborsClassifier(algorithm='ball_tree', n_neighbors=3, weights='distance')"
      ]
     },
     "execution_count": 23,
     "metadata": {},
     "output_type": "execute_result"
    }
   ],
   "source": [
    "gridk_classifier.best_estimator_"
   ]
  },
  {
   "cell_type": "code",
   "execution_count": 24,
   "metadata": {},
   "outputs": [
    {
     "data": {
      "text/plain": [
       "0.9250000000000002"
      ]
     },
     "execution_count": 24,
     "metadata": {},
     "output_type": "execute_result"
    }
   ],
   "source": [
    "gridk_classifier.best_score_"
   ]
  },
  {
   "cell_type": "markdown",
   "metadata": {},
   "source": [
    "## Conclusion\n",
    "\n",
    "Le modèle conseillé est donc le premier, obtenu via un simple arbre de décision et fournissant plus de 95% d'accuracy. \n",
    "\n",
    "Celui-ci peut donc être testé sur l'ensemble de test, qui est normalisé comme l'ensemble d'apprentissage. Il donne alors un résultat parfait (100% d'accuracy). Ses capacités de généralisation semblent donc très bonnes."
   ]
  },
  {
   "cell_type": "code",
   "execution_count": 25,
   "metadata": {},
   "outputs": [
    {
     "data": {
      "text/plain": [
       "1.0"
      ]
     },
     "execution_count": 25,
     "metadata": {},
     "output_type": "execute_result"
    }
   ],
   "source": [
    "from sklearn.metrics import confusion_matrix\n",
    "from sklearn.metrics import accuracy_score\n",
    "\n",
    "test_X = pipeline.transform(test_X)\n",
    "pred_y = grid_classifier.predict(test_X)\n",
    "accuracy_score(test_y, pred_y)"
   ]
  },
  {
   "cell_type": "markdown",
   "metadata": {},
   "source": [
    "# Evaluation\n",
    "\n",
    "Une évaluation est proposée à Flower Power.\n",
    "\n",
    "## Résultats de l'évaluation\n",
    "\n",
    "Il a été proposé de tester le modèle sur de nouvelles mesures. Cependant Flower Power n'a pas encore pu produire celles-ci.\n",
    "\n",
    "## Revue du processus\n",
    "\n",
    "Comme seules deux variables ont un impact (les mesures des pétales), seules ces mesures seront conservées. Cela permettra d'avoir moins de mesures à faire, en tous cas pour les Iris.\n",
    "\n",
    "## Étapes suivantes\n",
    "\n",
    "Trois points sont envisagés :\n",
    "* créer une véritable évaluation sur de nouvelles fleurs\n",
    "* créer un modèle avec uniquement les tailles des pétales en entrée\n",
    "* élargir le modèle à un autre type de fleur, pour valider l'approche.\n",
    "\n",
    "Il n'y aura donc pas de déploiement pour l'instant."
   ]
  },
  {
   "cell_type": "markdown",
   "metadata": {},
   "source": [
    "*Une phase de déploiement serait ajoutée en fin de projet.*"
   ]
  }
 ],
 "metadata": {
  "kernelspec": {
   "display_name": "Python 3 (Data Science)",
   "language": "python",
   "name": "python3__SAGEMAKER_INTERNAL__arn:aws:sagemaker:eu-west-1:470317259841:image/datascience-1.0"
  },
  "language_info": {
   "codemirror_mode": {
    "name": "ipython",
    "version": 3
   },
   "file_extension": ".py",
   "mimetype": "text/x-python",
   "name": "python",
   "nbconvert_exporter": "python",
   "pygments_lexer": "ipython3",
   "version": "3.7.10"
  }
 },
 "nbformat": 4,
 "nbformat_minor": 4
}
