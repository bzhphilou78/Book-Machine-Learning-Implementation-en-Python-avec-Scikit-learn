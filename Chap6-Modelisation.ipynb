{
 "cells": [
  {
   "cell_type": "markdown",
   "metadata": {},
   "source": [
    "# Modélisation et évaluation"
   ]
  },
  {
   "cell_type": "markdown",
   "metadata": {},
   "source": [
    "## Chargement et préparation des datasets en Scikit-Learn"
   ]
  },
  {
   "cell_type": "code",
   "execution_count": 1,
   "metadata": {},
   "outputs": [],
   "source": [
    "import pandas as pd\n",
    "from sklearn.model_selection import train_test_split\n",
    "from sklearn.impute import SimpleImputer"
   ]
  },
  {
   "cell_type": "code",
   "execution_count": 2,
   "metadata": {},
   "outputs": [],
   "source": [
    "# IRIS dataset\n",
    "\n",
    "# Loading\n",
    "iris_df = pd.read_csv(\"data/iris.csv\")\n",
    "\n",
    "# Train/test splitting\n",
    "y = iris_df['class']\n",
    "X = iris_df.drop(labels='class', axis=1)\n",
    "train_X_iris, test_X_iris, train_y_iris, test_y_iris = train_test_split(X, y, train_size=0.8, test_size=0.2, random_state=42)"
   ]
  },
  {
   "cell_type": "code",
   "execution_count": 3,
   "metadata": {},
   "outputs": [],
   "source": [
    "# TITANIC dataset\n",
    "\n",
    "# Loading\n",
    "titanic_df = pd.read_csv(\"data/titanic_train.csv\")\n",
    "\n",
    "# Feature Engineering\n",
    "titanic_df['FamilyNb'] = titanic_df['SibSp'] + titanic_df['Parch']\n",
    "titanic_df['Alone'] = (titanic_df['FamilyNb'] == 0)\n",
    "\n",
    "# Dummification Sex + Embarked\n",
    "sex_df = pd.get_dummies(titanic_df['Sex'], prefix='sex', drop_first=True)\n",
    "embarked_df = pd.get_dummies(titanic_df['Embarked'], prefix='embarked', dummy_na=True)\n",
    "titanic_df = pd.concat([titanic_df, embarked_df, sex_df], axis=1)\n",
    "\n",
    "# Filtering attributes\n",
    "titanic_df.drop(['PassengerId', 'Name', 'Ticket', 'Cabin', 'SibSp', 'Parch', 'Sex', 'Embarked'], axis=1, inplace=True)\n",
    "\n",
    "# Train/test splitting\n",
    "y = titanic_df['Survived']\n",
    "X = titanic_df.drop(['Survived'], axis=1)\n",
    "train_X_titanic, test_X_titanic, train_y_titanic, test_y_titanic = train_test_split(X, y, train_size=0.8, test_size=0.2, random_state=42)\n",
    "\n",
    "# Imputation for missing values\n",
    "col_names = train_X_titanic.columns\n",
    "titanic_imputer = SimpleImputer(strategy='mean')\n",
    "titanic_imputer.fit(train_X_titanic)\n",
    "train_X_titanic = titanic_imputer.transform(train_X_titanic)\n",
    "test_X_titanic = titanic_imputer.transform(test_X_titanic)\n",
    "\n",
    "# /!\\ : recreating DataFrames \n",
    "train_X_titanic = pd.DataFrame(data=train_X_titanic, columns=col_names)\n",
    "test_X_titanic = pd.DataFrame(data=test_X_titanic, columns=col_names)"
   ]
  },
  {
   "cell_type": "code",
   "execution_count": 4,
   "metadata": {},
   "outputs": [
    {
     "data": {
      "text/html": [
       "<div>\n",
       "<style scoped>\n",
       "    .dataframe tbody tr th:only-of-type {\n",
       "        vertical-align: middle;\n",
       "    }\n",
       "\n",
       "    .dataframe tbody tr th {\n",
       "        vertical-align: top;\n",
       "    }\n",
       "\n",
       "    .dataframe thead th {\n",
       "        text-align: right;\n",
       "    }\n",
       "</style>\n",
       "<table border=\"1\" class=\"dataframe\">\n",
       "  <thead>\n",
       "    <tr style=\"text-align: right;\">\n",
       "      <th></th>\n",
       "      <th>Pclass</th>\n",
       "      <th>Age</th>\n",
       "      <th>Fare</th>\n",
       "      <th>FamilyNb</th>\n",
       "      <th>Alone</th>\n",
       "      <th>embarked_C</th>\n",
       "      <th>embarked_Q</th>\n",
       "      <th>embarked_S</th>\n",
       "      <th>embarked_nan</th>\n",
       "      <th>sex_male</th>\n",
       "    </tr>\n",
       "  </thead>\n",
       "  <tbody>\n",
       "    <tr>\n",
       "      <th>0</th>\n",
       "      <td>1.0</td>\n",
       "      <td>45.5</td>\n",
       "      <td>28.5000</td>\n",
       "      <td>0.0</td>\n",
       "      <td>1.0</td>\n",
       "      <td>0.0</td>\n",
       "      <td>0.0</td>\n",
       "      <td>1.0</td>\n",
       "      <td>0.0</td>\n",
       "      <td>1.0</td>\n",
       "    </tr>\n",
       "    <tr>\n",
       "      <th>1</th>\n",
       "      <td>2.0</td>\n",
       "      <td>23.0</td>\n",
       "      <td>13.0000</td>\n",
       "      <td>0.0</td>\n",
       "      <td>1.0</td>\n",
       "      <td>0.0</td>\n",
       "      <td>0.0</td>\n",
       "      <td>1.0</td>\n",
       "      <td>0.0</td>\n",
       "      <td>1.0</td>\n",
       "    </tr>\n",
       "    <tr>\n",
       "      <th>2</th>\n",
       "      <td>3.0</td>\n",
       "      <td>32.0</td>\n",
       "      <td>7.9250</td>\n",
       "      <td>0.0</td>\n",
       "      <td>1.0</td>\n",
       "      <td>0.0</td>\n",
       "      <td>0.0</td>\n",
       "      <td>1.0</td>\n",
       "      <td>0.0</td>\n",
       "      <td>1.0</td>\n",
       "    </tr>\n",
       "    <tr>\n",
       "      <th>3</th>\n",
       "      <td>3.0</td>\n",
       "      <td>26.0</td>\n",
       "      <td>7.8542</td>\n",
       "      <td>1.0</td>\n",
       "      <td>0.0</td>\n",
       "      <td>0.0</td>\n",
       "      <td>0.0</td>\n",
       "      <td>1.0</td>\n",
       "      <td>0.0</td>\n",
       "      <td>1.0</td>\n",
       "    </tr>\n",
       "    <tr>\n",
       "      <th>4</th>\n",
       "      <td>3.0</td>\n",
       "      <td>6.0</td>\n",
       "      <td>31.2750</td>\n",
       "      <td>6.0</td>\n",
       "      <td>0.0</td>\n",
       "      <td>0.0</td>\n",
       "      <td>0.0</td>\n",
       "      <td>1.0</td>\n",
       "      <td>0.0</td>\n",
       "      <td>0.0</td>\n",
       "    </tr>\n",
       "  </tbody>\n",
       "</table>\n",
       "</div>"
      ],
      "text/plain": [
       "   Pclass   Age     Fare  FamilyNb  Alone  embarked_C  embarked_Q  embarked_S  \\\n",
       "0     1.0  45.5  28.5000       0.0    1.0         0.0         0.0         1.0   \n",
       "1     2.0  23.0  13.0000       0.0    1.0         0.0         0.0         1.0   \n",
       "2     3.0  32.0   7.9250       0.0    1.0         0.0         0.0         1.0   \n",
       "3     3.0  26.0   7.8542       1.0    0.0         0.0         0.0         1.0   \n",
       "4     3.0   6.0  31.2750       6.0    0.0         0.0         0.0         1.0   \n",
       "\n",
       "   embarked_nan  sex_male  \n",
       "0           0.0       1.0  \n",
       "1           0.0       1.0  \n",
       "2           0.0       1.0  \n",
       "3           0.0       1.0  \n",
       "4           0.0       0.0  "
      ]
     },
     "execution_count": 4,
     "metadata": {},
     "output_type": "execute_result"
    }
   ],
   "source": [
    "train_X_titanic.head()"
   ]
  },
  {
   "cell_type": "code",
   "execution_count": 5,
   "metadata": {},
   "outputs": [],
   "source": [
    "# BOSTON dataset\n",
    "\n",
    "# Loading\n",
    "names=['CRIM', 'ZN', 'INDUS', 'CHAS', 'NOX', 'RM', 'AGE', 'DIS', 'RAD', 'TAX', 'PTRATIO', 'B', 'LSTAT', 'MEDV']\n",
    "boston_df = pd.read_fwf(\"data/boston.txt\", skiprows=22, header=None, names=names)\n",
    "\n",
    "# Train/test splitting\n",
    "y = boston_df['MEDV']\n",
    "X = boston_df.drop(labels='MEDV', axis=1)\n",
    "train_X_boston, test_X_boston, train_y_boston, test_y_boston = train_test_split(X, y, train_size=0.8, test_size=0.2, random_state=42)"
   ]
  },
  {
   "cell_type": "markdown",
   "metadata": {},
   "source": [
    "## Modélisation"
   ]
  },
  {
   "cell_type": "code",
   "execution_count": 6,
   "metadata": {},
   "outputs": [],
   "source": [
    "# Create a model for Iris\n",
    "from sklearn.tree import DecisionTreeClassifier\n",
    "\n",
    "tree_classifier = DecisionTreeClassifier(max_depth=3, random_state=42)\n",
    "tree_classifier.fit(train_X_iris, train_y_iris)\n",
    "pred_y_iris = tree_classifier.predict(test_X_iris)"
   ]
  },
  {
   "cell_type": "code",
   "execution_count": 7,
   "metadata": {},
   "outputs": [
    {
     "data": {
      "text/plain": [
       "1.0"
      ]
     },
     "execution_count": 7,
     "metadata": {},
     "output_type": "execute_result"
    }
   ],
   "source": [
    "# Evaluate the model\n",
    "from sklearn.metrics import accuracy_score\n",
    "\n",
    "accuracy_score(test_y_iris, pred_y_iris)"
   ]
  },
  {
   "cell_type": "code",
   "execution_count": 8,
   "metadata": {},
   "outputs": [],
   "source": [
    "# Same with K-Fold\n",
    "from sklearn.model_selection import cross_validate\n",
    "\n",
    "tree_classifier = DecisionTreeClassifier(max_depth=3, random_state=42)\n",
    "scores = cross_validate(tree_classifier, train_X_iris, train_y_iris, cv=5, scoring=['accuracy', 'f1_macro'])"
   ]
  },
  {
   "cell_type": "code",
   "execution_count": 9,
   "metadata": {},
   "outputs": [
    {
     "name": "stdout",
     "output_type": "stream",
     "text": [
      "[0.95833333 1.         0.83333333 0.95833333 0.91666667]\n"
     ]
    }
   ],
   "source": [
    "# Evaluate the model on each fold\n",
    "print(scores['test_accuracy'])"
   ]
  },
  {
   "cell_type": "code",
   "execution_count": 10,
   "metadata": {},
   "outputs": [],
   "source": [
    "# Save the model\n",
    "import pickle\n",
    "\n",
    "# First create a model\n",
    "best_model = DecisionTreeClassifier(max_depth=3, random_state=42)\n",
    "best_model.fit(train_X_iris, train_y_iris)\n",
    "\n",
    "# And save it as Pickle file\n",
    "filename = 'temp/mymodel.bak'\n",
    "pickle.dump(best_model, open(filename, 'wb'))"
   ]
  },
  {
   "cell_type": "code",
   "execution_count": 11,
   "metadata": {},
   "outputs": [
    {
     "data": {
      "text/plain": [
       "1.0"
      ]
     },
     "execution_count": 11,
     "metadata": {},
     "output_type": "execute_result"
    }
   ],
   "source": [
    "# Open an existing model\n",
    "old_model = pickle.load(open(filename, 'rb'))\n",
    "\n",
    "# Test model\n",
    "pred_y_iris = old_model.predict(test_X_iris)\n",
    "accuracy_score(test_y_iris, pred_y_iris)"
   ]
  },
  {
   "cell_type": "code",
   "execution_count": 12,
   "metadata": {},
   "outputs": [],
   "source": [
    "# Same with joblib\n",
    "import joblib\n",
    "\n",
    "joblib.dump(best_model, 'temp/mymodel2.bak')\n",
    "\n",
    "old_model = joblib.load('temp/mymodel2.bak')"
   ]
  },
  {
   "cell_type": "markdown",
   "metadata": {},
   "source": [
    "## Fine Tuning"
   ]
  },
  {
   "cell_type": "code",
   "execution_count": 13,
   "metadata": {},
   "outputs": [],
   "source": [
    "# Grid-search parameters\n",
    "params_grid = {'max_depth':[3, 5, 7],\n",
    "         'splitter':['best', 'random'],\n",
    "         'min_samples_split':[2, 5]}"
   ]
  },
  {
   "cell_type": "code",
   "execution_count": 14,
   "metadata": {},
   "outputs": [],
   "source": [
    "# Random search parameters\n",
    "import scipy\n",
    "\n",
    "params_random = {'max_depth': scipy.stats.randint(3, 8), # 8 not included\n",
    "         'splitter': ['best', 'random'],\n",
    "         'min_samples_split': [2, 5]}"
   ]
  },
  {
   "cell_type": "code",
   "execution_count": 15,
   "metadata": {},
   "outputs": [
    {
     "data": {
      "text/plain": [
       "GridSearchCV(cv=5, estimator=DecisionTreeClassifier(random_state=42),\n",
       "             param_grid={'max_depth': [3, 5, 7], 'min_samples_split': [2, 5],\n",
       "                         'splitter': ['best', 'random']},\n",
       "             scoring='accuracy')"
      ]
     },
     "execution_count": 15,
     "metadata": {},
     "output_type": "execute_result"
    }
   ],
   "source": [
    "# Grid search\n",
    "from sklearn.model_selection import GridSearchCV\n",
    "\n",
    "tree_classifier = DecisionTreeClassifier(random_state=42)\n",
    "grid_classifier = GridSearchCV(tree_classifier, param_grid=params_grid, scoring='accuracy', cv=5)\n",
    "\n",
    "grid_classifier.fit(train_X_iris, train_y_iris)"
   ]
  },
  {
   "cell_type": "code",
   "execution_count": 16,
   "metadata": {},
   "outputs": [
    {
     "data": {
      "text/plain": [
       "RandomizedSearchCV(cv=5, estimator=DecisionTreeClassifier(random_state=42),\n",
       "                   n_iter=6,\n",
       "                   param_distributions={'max_depth': <scipy.stats._distn_infrastructure.rv_frozen object at 0x7f93cc767910>,\n",
       "                                        'min_samples_split': [2, 5],\n",
       "                                        'splitter': ['best', 'random']},\n",
       "                   scoring='accuracy')"
      ]
     },
     "execution_count": 16,
     "metadata": {},
     "output_type": "execute_result"
    }
   ],
   "source": [
    "from sklearn.model_selection import RandomizedSearchCV\n",
    "\n",
    "tree_classifier = DecisionTreeClassifier(random_state=42)\n",
    "random_classifier = RandomizedSearchCV(tree_classifier, param_distributions=params_random, scoring='accuracy', cv=5, n_iter=6)\n",
    "\n",
    "random_classifier.fit(train_X_iris, train_y_iris)"
   ]
  },
  {
   "cell_type": "code",
   "execution_count": 17,
   "metadata": {},
   "outputs": [
    {
     "data": {
      "text/plain": [
       "DecisionTreeClassifier(max_depth=3, random_state=42, splitter='random')"
      ]
     },
     "execution_count": 17,
     "metadata": {},
     "output_type": "execute_result"
    }
   ],
   "source": [
    "# Best for grid search\n",
    "grid_classifier.best_estimator_"
   ]
  },
  {
   "cell_type": "code",
   "execution_count": 18,
   "metadata": {},
   "outputs": [
    {
     "data": {
      "text/plain": [
       "0.95"
      ]
     },
     "execution_count": 18,
     "metadata": {},
     "output_type": "execute_result"
    }
   ],
   "source": [
    "# and score\n",
    "grid_classifier.best_score_"
   ]
  },
  {
   "cell_type": "code",
   "execution_count": 19,
   "metadata": {},
   "outputs": [
    {
     "data": {
      "text/plain": [
       "DecisionTreeClassifier(max_depth=3, random_state=42, splitter='random')"
      ]
     },
     "execution_count": 19,
     "metadata": {},
     "output_type": "execute_result"
    }
   ],
   "source": [
    "# Best for random search\n",
    "random_classifier.best_estimator_"
   ]
  },
  {
   "cell_type": "code",
   "execution_count": 20,
   "metadata": {},
   "outputs": [
    {
     "data": {
      "text/plain": [
       "0.95"
      ]
     },
     "execution_count": 20,
     "metadata": {},
     "output_type": "execute_result"
    }
   ],
   "source": [
    "# and score\n",
    "random_classifier.best_score_"
   ]
  },
  {
   "cell_type": "code",
   "execution_count": null,
   "metadata": {},
   "outputs": [],
   "source": []
  }
 ],
 "metadata": {
  "instance_type": "ml.t3.medium",
  "kernelspec": {
   "display_name": "Python 3 (Data Science)",
   "language": "python",
   "name": "python3__SAGEMAKER_INTERNAL__arn:aws:sagemaker:eu-west-1:470317259841:image/datascience-1.0"
  },
  "language_info": {
   "codemirror_mode": {
    "name": "ipython",
    "version": 3
   },
   "file_extension": ".py",
   "mimetype": "text/x-python",
   "name": "python",
   "nbconvert_exporter": "python",
   "pygments_lexer": "ipython3",
   "version": "3.7.10"
  }
 },
 "nbformat": 4,
 "nbformat_minor": 4
}
